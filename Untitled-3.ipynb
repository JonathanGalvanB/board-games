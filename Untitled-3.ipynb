{
 "cells": [
  {
   "cell_type": "code",
   "execution_count": 76,
   "metadata": {},
   "outputs": [],
   "source": [
    "import pandas as pd\n",
    "import numpy as np\n",
    "import time \n",
    "\n",
    "from bs4 import BeautifulSoup\n",
    "\n",
    "import requests\n",
    "\n",
    "from bs4 import Comment\n",
    "\n",
    "from selenium import webdriver\n",
    "from selenium.webdriver.support.ui import Select\n",
    "from selenium.webdriver.support.wait import WebDriverWait\n",
    "from selenium.webdriver.chrome.options import Options\n",
    "from selenium.webdriver.common.by import By\n",
    "from selenium.webdriver.common.keys import Keys\n",
    "from selenium.webdriver.chrome.options import Options\n",
    "from selenium.webdriver.common.action_chains import ActionChains\n",
    "from selenium.webdriver.support.wait import WebDriverWait\n",
    "from selenium.webdriver.support import expected_conditions as EC"
   ]
  },
  {
   "cell_type": "code",
   "execution_count": 68,
   "metadata": {},
   "outputs": [],
   "source": [
    "url=\"https://boardgamegeek.com/boardgame/233078/twilight-imperium-fourth-edition/credits#boardgamemechanic\""
   ]
  },
  {
   "cell_type": "code",
   "execution_count": 77,
   "metadata": {},
   "outputs": [],
   "source": [
    "chrome_options = Options()\n",
    "#chrome_options.add_argument(\"--headless\")\n",
    "chrome_options.add_argument(\"--no-sandbox\")\n",
    "chrome_options.add_argument(\"--disable-gpu\")\n",
    "chrome_options.add_argument(\"--disable-extensions\")\n",
    "\n",
    "\n",
    "driver = webdriver.Chrome(options=chrome_options)\n"
   ]
  },
  {
   "cell_type": "code",
   "execution_count": 70,
   "metadata": {},
   "outputs": [],
   "source": [
    "driver.get(url)"
   ]
  },
  {
   "cell_type": "code",
   "execution_count": 78,
   "metadata": {},
   "outputs": [],
   "source": [
    "sel = '#mainbody > div.global-body-content-container.container-fluid > div > div.content.ng-isolate-scope > div:nth-child(2) > ng-include > div > div > ui-view > ui-view > div > div > div.panel-body > credits-module > ul > li:nth-child(15) > div.outline-item-description > div'\n"
   ]
  },
  {
   "cell_type": "code",
   "execution_count": null,
   "metadata": {},
   "outputs": [
    {
     "name": "stdout",
     "output_type": "stream",
     "text": [
      " \t\t\t\t\t<!-- ngIf: !creditsctrl.geekitem.data.item.links[info.keyname].length --> \t\t\t\t\t<!-- ngRepeat: link in creditsctrl.geekitem.data.item.links[info.keyname] --><div ng-repeat=\"link in creditsctrl.geekitem.data.item.links[info.keyname]\" class=\"ng-scope\"> \t\t\t\t\t\t<a ng-href=\"/boardgamemechanic/2838/action-drafting\" class=\"ng-binding\" href=\"/boardgamemechanic/2838/action-drafting\">Action Drafting</a> \t\t\t\t\t</div><!-- end ngRepeat: link in creditsctrl.geekitem.data.item.links[info.keyname] --><div ng-repeat=\"link in creditsctrl.geekitem.data.item.links[info.keyname]\" class=\"ng-scope\"> \t\t\t\t\t\t<a ng-href=\"/boardgamemechanic/2021/area-impulse\" class=\"ng-binding\" href=\"/boardgamemechanic/2021/area-impulse\">Area-Impulse</a> \t\t\t\t\t</div><!-- end ngRepeat: link in creditsctrl.geekitem.data.item.links[info.keyname] --><div ng-repeat=\"link in creditsctrl.geekitem.data.item.links[info.keyname]\" class=\"ng-scope\"> \t\t\t\t\t\t<a ng-href=\"/boardgamemechanic/2072/dice-rolling\" class=\"ng-binding\" href=\"/boardgamemechanic/2072/dice-rolling\">Dice Rolling</a> \t\t\t\t\t</div><!-- end ngRepeat: link in creditsctrl.geekitem.data.item.links[info.keyname] --><div ng-repeat=\"link in creditsctrl.geekitem.data.item.links[info.keyname]\" class=\"ng-scope\"> \t\t\t\t\t\t<a ng-href=\"/boardgamemechanic/2843/follow\" class=\"ng-binding\" href=\"/boardgamemechanic/2843/follow\">Follow</a> \t\t\t\t\t</div><!-- end ngRepeat: link in creditsctrl.geekitem.data.item.links[info.keyname] --><div ng-repeat=\"link in creditsctrl.geekitem.data.item.links[info.keyname]\" class=\"ng-scope\"> \t\t\t\t\t\t<a ng-href=\"/boardgamemechanic/2676/grid-movement\" class=\"ng-binding\" href=\"/boardgamemechanic/2676/grid-movement\">Grid Movement</a> \t\t\t\t\t</div><!-- end ngRepeat: link in creditsctrl.geekitem.data.item.links[info.keyname] --><div ng-repeat=\"link in creditsctrl.geekitem.data.item.links[info.keyname]\" class=\"ng-scope\"> \t\t\t\t\t\t<a ng-href=\"/boardgamemechanic/2026/hexagon-grid\" class=\"ng-binding\" href=\"/boardgamemechanic/2026/hexagon-grid\">Hexagon Grid</a> \t\t\t\t\t</div><!-- end ngRepeat: link in creditsctrl.geekitem.data.item.links[info.keyname] --><div ng-repeat=\"link in creditsctrl.geekitem.data.item.links[info.keyname]\" class=\"ng-scope\"> \t\t\t\t\t\t<a ng-href=\"/boardgamemechanic/2914/increase-value-of-unchosen-resources\" class=\"ng-binding\" href=\"/boardgamemechanic/2914/increase-value-of-unchosen-resources\">Increase Value of Unchosen Resources</a> \t\t\t\t\t</div><!-- end ngRepeat: link in creditsctrl.geekitem.data.item.links[info.keyname] --><div ng-repeat=\"link in creditsctrl.geekitem.data.item.links[info.keyname]\" class=\"ng-scope\"> \t\t\t\t\t\t<a ng-href=\"/boardgamemechanic/2886/king-of-the-hill\" class=\"ng-binding\" href=\"/boardgamemechanic/2886/king-of-the-hill\">King of the Hill</a> \t\t\t\t\t</div><!-- end ngRepeat: link in creditsctrl.geekitem.data.item.links[info.keyname] --><div ng-repeat=\"link in creditsctrl.geekitem.data.item.links[info.keyname]\" class=\"ng-scope\"> \t\t\t\t\t\t<a ng-href=\"/boardgamemechanic/2011/modular-board\" class=\"ng-binding\" href=\"/boardgamemechanic/2011/modular-board\">Modular Board</a> \t\t\t\t\t</div><!-- end ngRepeat: link in creditsctrl.geekitem.data.item.links[info.keyname] --><div ng-repeat=\"link in creditsctrl.geekitem.data.item.links[info.keyname]\" class=\"ng-scope\"> \t\t\t\t\t\t<a ng-href=\"/boardgamemechanic/2947/movement-points\" class=\"ng-binding\" href=\"/boardgamemechanic/2947/movement-points\">Movement Points</a> \t\t\t\t\t</div><!-- end ngRepeat: link in creditsctrl.geekitem.data.item.links[info.keyname] --><div ng-repeat=\"link in creditsctrl.geekitem.data.item.links[info.keyname]\" class=\"ng-scope\"> \t\t\t\t\t\t<a ng-href=\"/boardgamemechanic/2876/race\" class=\"ng-binding\" href=\"/boardgamemechanic/2876/race\">Race</a> \t\t\t\t\t</div><!-- end ngRepeat: link in creditsctrl.geekitem.data.item.links[info.keyname] --><div ng-repeat=\"link in creditsctrl.geekitem.data.item.links[info.keyname]\" class=\"ng-scope\"> \t\t\t\t\t\t<a ng-href=\"/boardgamemechanic/2849/tech-trees-tech-tracks\" class=\"ng-binding\" href=\"/boardgamemechanic/2849/tech-trees-tech-tracks\">Tech Trees / Tech Tracks</a> \t\t\t\t\t</div><!-- end ngRepeat: link in creditsctrl.geekitem.data.item.links[info.keyname] --><div ng-repeat=\"link in creditsctrl.geekitem.data.item.links[info.keyname]\" class=\"ng-scope\"> \t\t\t\t\t\t<a ng-href=\"/boardgamemechanic/2008/trading\" class=\"ng-binding\" href=\"/boardgamemechanic/2008/trading\">Trading</a> \t\t\t\t\t</div><!-- end ngRepeat: link in creditsctrl.geekitem.data.item.links[info.keyname] --><div ng-repeat=\"link in creditsctrl.geekitem.data.item.links[info.keyname]\" class=\"ng-scope\"> \t\t\t\t\t\t<a ng-href=\"/boardgamemechanic/2079/variable-phase-order\" class=\"ng-binding\" href=\"/boardgamemechanic/2079/variable-phase-order\">Variable Phase Order</a> \t\t\t\t\t</div><!-- end ngRepeat: link in creditsctrl.geekitem.data.item.links[info.keyname] --><div ng-repeat=\"link in creditsctrl.geekitem.data.item.links[info.keyname]\" class=\"ng-scope\"> \t\t\t\t\t\t<a ng-href=\"/boardgamemechanic/2015/variable-player-powers\" class=\"ng-binding\" href=\"/boardgamemechanic/2015/variable-player-powers\">Variable Player Powers</a> \t\t\t\t\t</div><!-- end ngRepeat: link in creditsctrl.geekitem.data.item.links[info.keyname] --><div ng-repeat=\"link in creditsctrl.geekitem.data.item.links[info.keyname]\" class=\"ng-scope\"> \t\t\t\t\t\t<a ng-href=\"/boardgamemechanic/2897/variable-set-up\" class=\"ng-binding\" href=\"/boardgamemechanic/2897/variable-set-up\">Variable Set-up</a> \t\t\t\t\t</div><!-- end ngRepeat: link in creditsctrl.geekitem.data.item.links[info.keyname] --><div ng-repeat=\"link in creditsctrl.geekitem.data.item.links[info.keyname]\" class=\"ng-scope\"> \t\t\t\t\t\t<a ng-href=\"/boardgamemechanic/2017/voting\" class=\"ng-binding\" href=\"/boardgamemechanic/2017/voting\">Voting</a> \t\t\t\t\t</div><!-- end ngRepeat: link in creditsctrl.geekitem.data.item.links[info.keyname] --> \t\t\t\t\n"
     ]
    }
   ],
   "source": [
    "element = WebDriverWait(driver, 3).until(EC.visibility_of_element_located((By.CSS_SELECTOR, sel)))\n",
    "print(element.get_attribute('innerHTML'))"
   ]
  },
  {
   "cell_type": "code",
   "execution_count": null,
   "metadata": {},
   "outputs": [],
   "source": [
    ".//*[@id=\"mainbody\"]/div[2]/div/div[2]/div[2]/ng-include/div/div/ui-view/ui-view/div/div/div[2]/credits-module/ul/li[15]/div[2]/div/div[1]/a"
   ]
  },
  {
   "cell_type": "code",
   "execution_count": 72,
   "metadata": {},
   "outputs": [],
   "source": [
    "list1 = element.find_elements(By.TAG_NAME,'a')"
   ]
  },
  {
   "cell_type": "code",
   "execution_count": 74,
   "metadata": {},
   "outputs": [
    {
     "name": "stdout",
     "output_type": "stream",
     "text": [
      "Action Drafting\n",
      "Area-Impulse\n",
      "Dice Rolling\n",
      "Follow\n",
      "Grid Movement\n",
      "Hexagon Grid\n",
      "Increase Value of Unchosen Resources\n",
      "King of the Hill\n",
      "Modular Board\n",
      "Movement Points\n",
      "Race\n",
      "Tech Trees / Tech Tracks\n",
      "Trading\n",
      "Variable Phase Order\n",
      "Variable Player Powers\n",
      "Variable Set-up\n",
      "Voting\n"
     ]
    }
   ],
   "source": [
    "for l in list1:\n",
    "    print(l.get_attribute('innerHTML'))"
   ]
  },
  {
   "cell_type": "code",
   "execution_count": 75,
   "metadata": {},
   "outputs": [],
   "source": [
    "driver.quit()"
   ]
  },
  {
   "cell_type": "code",
   "execution_count": 79,
   "metadata": {},
   "outputs": [],
   "source": [
    "db = pd.read_csv('database.csv', index_col=0)"
   ]
  },
  {
   "cell_type": "code",
   "execution_count": 80,
   "metadata": {},
   "outputs": [],
   "source": [
    "mechanics = []"
   ]
  },
  {
   "cell_type": "code",
   "execution_count": 81,
   "metadata": {},
   "outputs": [
    {
     "name": "stdout",
     "output_type": "stream",
     "text": [
      "https://boardgamegeek.com/boardgame/224517/brass-birmingham/credits#boardgamemechanic\n",
      "https://boardgamegeek.com/boardgame/161936/pandemic-legacy-season-1/credits#boardgamemechanic\n",
      "https://boardgamegeek.com/boardgame/174430/gloomhaven/credits#boardgamemechanic\n",
      "https://boardgamegeek.com/boardgame/342942/ark-nova/credits#boardgamemechanic\n",
      "https://boardgamegeek.com/boardgame/233078/twilight-imperium-fourth-edition/credits#boardgamemechanic\n",
      "https://boardgamegeek.com/boardgame/316554/dune-imperium/credits#boardgamemechanic\n",
      "https://boardgamegeek.com/boardgame/167791/terraforming-mars/credits#boardgamemechanic\n",
      "https://boardgamegeek.com/boardgame/115746/war-of-the-ring-second-edition/credits#boardgamemechanic\n",
      "https://boardgamegeek.com/boardgame/187645/star-wars-rebellion/credits#boardgamemechanic\n",
      "https://boardgamegeek.com/boardgame/291457/gloomhaven-jaws-of-the-lion/credits#boardgamemechanic\n"
     ]
    }
   ],
   "source": [
    "for link in db['Link'][:10]:\n",
    "        time.sleep(3)\n",
    "        print(link+'/credits#boardgamemechanic')\n",
    "        driver.get(link+'/credits#boardgamemechanic')\n",
    "        try:\n",
    "            mechanic = []\n",
    "            element = WebDriverWait(driver, 3).until(EC.visibility_of_element_located((By.CSS_SELECTOR, sel)))\n",
    "            list1 = element.find_elements(By.TAG_NAME,'a')\n",
    "            for l in list1:\n",
    "                mechanic.append(l.get_attribute('innerHTML'))\n",
    "            mechanics.append(mechanic)\n",
    "        except:\n",
    "            mechanics.append([])\n",
    "driver.quit()"
   ]
  },
  {
   "cell_type": "code",
   "execution_count": 82,
   "metadata": {},
   "outputs": [
    {
     "data": {
      "text/plain": [
       "[['Hand Management',\n",
       "  'Income',\n",
       "  'Loans',\n",
       "  'Market',\n",
       "  'Network and Route Building',\n",
       "  'Tags',\n",
       "  'Tech Trees / Tech Tracks',\n",
       "  'Turn Order: Stat-Based',\n",
       "  'Variable Set-up'],\n",
       " ['Action Points',\n",
       "  'Cooperative Game',\n",
       "  'Hand Management',\n",
       "  'Legacy Game',\n",
       "  'Point to Point Movement',\n",
       "  'Scenario / Mission / Campaign Game',\n",
       "  'Set Collection',\n",
       "  'Tags',\n",
       "  'Trading',\n",
       "  'Variable Player Powers'],\n",
       " ['Action Queue',\n",
       "  'Action Retrieval',\n",
       "  'Campaign / Battle Card Driven',\n",
       "  'Card Play Conflict Resolution',\n",
       "  'Communication Limits',\n",
       "  'Cooperative Game',\n",
       "  'Critical Hits and Failures',\n",
       "  'Deck Construction',\n",
       "  'Grid Movement',\n",
       "  'Hand Management',\n",
       "  'Hexagon Grid',\n",
       "  'Legacy Game',\n",
       "  'Line of Sight',\n",
       "  'Modular Board',\n",
       "  'Multi-Use Cards',\n",
       "  'Narrative Choice / Paragraph',\n",
       "  'Once-Per-Game Abilities',\n",
       "  'Role Playing',\n",
       "  'Scenario / Mission / Campaign Game',\n",
       "  'Simultaneous Action Selection',\n",
       "  'Solo / Solitaire Game',\n",
       "  'Storytelling',\n",
       "  'Tags',\n",
       "  'Variable Player Powers'],\n",
       " ['Action Queue',\n",
       "  'End Game Bonuses',\n",
       "  'Grid Coverage',\n",
       "  'Hand Management',\n",
       "  'Hexagon Grid',\n",
       "  'Income',\n",
       "  'Increase Value of Unchosen Resources',\n",
       "  'Open Drafting',\n",
       "  'Set Collection',\n",
       "  'Solo / Solitaire Game',\n",
       "  'Tags',\n",
       "  'Tile Placement',\n",
       "  'Variable Player Powers',\n",
       "  'Variable Set-up'],\n",
       " ['Action Drafting',\n",
       "  'Area-Impulse',\n",
       "  'Dice Rolling',\n",
       "  'Follow',\n",
       "  'Grid Movement',\n",
       "  'Hexagon Grid',\n",
       "  'Increase Value of Unchosen Resources',\n",
       "  'King of the Hill',\n",
       "  'Modular Board',\n",
       "  'Movement Points',\n",
       "  'Race',\n",
       "  'Tech Trees / Tech Tracks',\n",
       "  'Trading',\n",
       "  'Variable Phase Order',\n",
       "  'Variable Player Powers',\n",
       "  'Variable Set-up',\n",
       "  'Voting'],\n",
       " ['Card Play Conflict Resolution',\n",
       "  'Deck, Bag, and Pool Building',\n",
       "  'Delayed Purchase',\n",
       "  'Force Commitment',\n",
       "  'Increase Value of Unchosen Resources',\n",
       "  'Multi-Use Cards',\n",
       "  'Open Drafting',\n",
       "  'Race',\n",
       "  'Solo / Solitaire Game',\n",
       "  'Tags',\n",
       "  'Take That',\n",
       "  'Turn Order: Progressive',\n",
       "  'Variable Player Powers',\n",
       "  'Worker Placement'],\n",
       " ['Closed Drafting',\n",
       "  'Contracts',\n",
       "  'End Game Bonuses',\n",
       "  'Hand Management',\n",
       "  'Hexagon Grid',\n",
       "  'Income',\n",
       "  'Set Collection',\n",
       "  'Solo / Solitaire Game',\n",
       "  'Tags',\n",
       "  'Take That',\n",
       "  'Tech Trees / Tech Tracks',\n",
       "  'Tile Placement',\n",
       "  'Turn Order: Progressive',\n",
       "  'Variable Player Powers',\n",
       "  'Variable Set-up',\n",
       "  'Victory Points as a Resource'],\n",
       " ['Action Drafting',\n",
       "  'Area Majority / Influence',\n",
       "  'Area Movement',\n",
       "  'Campaign / Battle Card Driven',\n",
       "  'Card Play Conflict Resolution',\n",
       "  'Dice Rolling',\n",
       "  'Events',\n",
       "  'Hand Management',\n",
       "  'Movement Points',\n",
       "  'Team-Based Game',\n",
       "  'Variable Set-up'],\n",
       " ['Area Majority / Influence',\n",
       "  'Area Movement',\n",
       "  'Card Play Conflict Resolution',\n",
       "  'Contracts',\n",
       "  'Delayed Purchase',\n",
       "  'Dice Rolling',\n",
       "  'Die Icon Resolution',\n",
       "  'Events',\n",
       "  'Hand Management',\n",
       "  'Hidden Movement',\n",
       "  'Income',\n",
       "  'Once-Per-Game Abilities',\n",
       "  'Tags',\n",
       "  'Take That',\n",
       "  'Team-Based Game',\n",
       "  'Variable Player Powers',\n",
       "  'Variable Set-up',\n",
       "  'Worker Placement, Different Worker Types'],\n",
       " ['Action Queue',\n",
       "  'Action Retrieval',\n",
       "  'Campaign / Battle Card Driven',\n",
       "  'Communication Limits',\n",
       "  'Cooperative Game',\n",
       "  'Critical Hits and Failures',\n",
       "  'Deck Construction',\n",
       "  'Grid Movement',\n",
       "  'Hand Management',\n",
       "  'Hexagon Grid',\n",
       "  'Legacy Game',\n",
       "  'Line of Sight',\n",
       "  'Multi-Use Cards',\n",
       "  'Once-Per-Game Abilities',\n",
       "  'Player Elimination',\n",
       "  'Role Playing',\n",
       "  'Scenario / Mission / Campaign Game',\n",
       "  'Simultaneous Action Selection',\n",
       "  'Solo / Solitaire Game',\n",
       "  'Variable Player Powers']]"
      ]
     },
     "execution_count": 82,
     "metadata": {},
     "output_type": "execute_result"
    }
   ],
   "source": [
    "mechanics"
   ]
  },
  {
   "cell_type": "code",
   "execution_count": null,
   "metadata": {},
   "outputs": [],
   "source": []
  }
 ],
 "metadata": {
  "kernelspec": {
   "display_name": "base",
   "language": "python",
   "name": "python3"
  },
  "language_info": {
   "codemirror_mode": {
    "name": "ipython",
    "version": 3
   },
   "file_extension": ".py",
   "mimetype": "text/x-python",
   "name": "python",
   "nbconvert_exporter": "python",
   "pygments_lexer": "ipython3",
   "version": "3.12.7"
  }
 },
 "nbformat": 4,
 "nbformat_minor": 2
}
