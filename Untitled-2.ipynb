{
 "cells": [
  {
   "cell_type": "code",
   "execution_count": 25,
   "metadata": {},
   "outputs": [],
   "source": [
    "import pandas as pd\n",
    "import numpy as np\n",
    "import time \n",
    "\n",
    "from bs4 import BeautifulSoup\n",
    "\n",
    "import requests\n",
    "\n",
    "from bs4 import Comment\n",
    "\n",
    "from selenium import webdriver\n",
    "from selenium.webdriver.support.ui import Select\n",
    "from selenium.webdriver.support.wait import WebDriverWait\n",
    "from selenium.webdriver.chrome.options import Options\n",
    "from selenium.webdriver.common.by import By\n",
    "from selenium.webdriver.common.keys import Keys\n",
    "from selenium.webdriver.chrome.options import Options\n",
    "from selenium.webdriver.common.action_chains import ActionChains\n",
    "from selenium.webdriver.support.wait import WebDriverWait\n",
    "from selenium.webdriver.support import expected_conditions as EC"
   ]
  },
  {
   "cell_type": "code",
   "execution_count": 26,
   "metadata": {},
   "outputs": [],
   "source": [
    "url = 'https://boardgamegeek.com/boardgame/199792/everdell'"
   ]
  },
  {
   "cell_type": "code",
   "execution_count": 27,
   "metadata": {},
   "outputs": [],
   "source": [
    "min_players_sel = '#mainbody > div.global-body-content-container.container-fluid > div > div.content.ng-isolate-scope > div:nth-child(2) > ng-include > div > ng-include > div > div.game-header > div.game-header-body > div.game-header-gameplay.hidden-game-header-collapsed.ng-scope > gameplay-module > div > div > ul > li:nth-child(1) > p > span > span:nth-child(1)'\n",
    "max_players_sel = '#mainbody > div.global-body-content-container.container-fluid > div > div.content.ng-isolate-scope > div:nth-child(2) > ng-include > div > ng-include > div > div.game-header > div.game-header-body > div.game-header-gameplay.hidden-game-header-collapsed.ng-scope > gameplay-module > div > div > ul > li:nth-child(1) > p > span > span:nth-child(2)'\n",
    "min_duration_sel = '#mainbody > div.global-body-content-container.container-fluid > div > div.content.ng-isolate-scope > div:nth-child(2) > ng-include > div > ng-include > div > div.game-header > div.game-header-body > div.game-header-gameplay.hidden-game-header-collapsed.ng-scope > gameplay-module > div > div > ul > li:nth-child(2) > p > span > span > span:nth-child(1)'\n",
    "max_duration_sel = '#mainbody > div.global-body-content-container.container-fluid > div > div.content.ng-isolate-scope > div:nth-child(2) > ng-include > div > ng-include > div > div.game-header > div.game-header-body > div.game-header-gameplay.hidden-game-header-collapsed.ng-scope > gameplay-module > div > div > ul > li:nth-child(2) > p > span > span > span:nth-child(2)'\n",
    "weight_sel_medium = '#mainbody > div.global-body-content-container.container-fluid > div > div.content.ng-isolate-scope > div:nth-child(2) > ng-include > div > ng-include > div > div.game-header > div.game-header-body > div.game-header-gameplay.hidden-game-header-collapsed.ng-scope > gameplay-module > div > div > ul > li:nth-child(4) > p > span.ng-isolate-scope > span.ng-binding.gameplay-weight-medium'\n",
    "weight_sel_light = '#mainbody > div.global-body-content-container.container-fluid > div > div.content.ng-isolate-scope > div:nth-child(2) > ng-include > div > ng-include > div > div.game-header > div.game-header-body > div.game-header-gameplay.hidden-game-header-collapsed.ng-scope > gameplay-module > div > div > ul > li:nth-child(4) > p > span.ng-isolate-scope > span.ng-binding.gameplay-weight-light'\n",
    "weight_sel_heavy = '#mainbody > div.global-body-content-container.container-fluid > div > div.content.ng-isolate-scope > div:nth-child(2) > ng-include > div > ng-include > div > div.game-header > div.game-header-body > div.game-header-gameplay.hidden-game-header-collapsed.ng-scope > gameplay-module > div > div > ul > li:nth-child(4) > p > span.ng-isolate-scope > span.ng-binding.gameplay-weight-heavy'\n"
   ]
  },
  {
   "cell_type": "code",
   "execution_count": 28,
   "metadata": {},
   "outputs": [],
   "source": [
    "weight_sels = [weight_sel_light, weight_sel_medium, weight_sel_heavy]"
   ]
  },
  {
   "cell_type": "code",
   "execution_count": 29,
   "metadata": {},
   "outputs": [],
   "source": [
    "chrome_options = Options()\n",
    "chrome_options.add_argument(\"--headless\")\n",
    "chrome_options.add_argument(\"--no-sandbox\")\n",
    "chrome_options.add_argument(\"--disable-gpu\")\n",
    "chrome_options.add_argument(\"--disable-extensions\")\n",
    "\n",
    "\n",
    "driver = webdriver.Chrome(options=chrome_options)\n"
   ]
  },
  {
   "cell_type": "code",
   "execution_count": 30,
   "metadata": {},
   "outputs": [],
   "source": [
    "db = pd.read_csv('database.csv', index_col=0)"
   ]
  },
  {
   "cell_type": "code",
   "execution_count": 31,
   "metadata": {},
   "outputs": [
    {
     "data": {
      "text/html": [
       "<div>\n",
       "<style scoped>\n",
       "    .dataframe tbody tr th:only-of-type {\n",
       "        vertical-align: middle;\n",
       "    }\n",
       "\n",
       "    .dataframe tbody tr th {\n",
       "        vertical-align: top;\n",
       "    }\n",
       "\n",
       "    .dataframe thead th {\n",
       "        text-align: right;\n",
       "    }\n",
       "</style>\n",
       "<table border=\"1\" class=\"dataframe\">\n",
       "  <thead>\n",
       "    <tr style=\"text-align: right;\">\n",
       "      <th></th>\n",
       "      <th>Name</th>\n",
       "      <th>Rank</th>\n",
       "      <th>Link</th>\n",
       "      <th>Geek Rating</th>\n",
       "      <th>Average ratings</th>\n",
       "      <th>Voters</th>\n",
       "    </tr>\n",
       "  </thead>\n",
       "  <tbody>\n",
       "    <tr>\n",
       "      <th>0</th>\n",
       "      <td>Brass: Birmingham</td>\n",
       "      <td>1</td>\n",
       "      <td>https://boardgamegeek.com/boardgame/224517/bra...</td>\n",
       "      <td>8.413</td>\n",
       "      <td>8.59</td>\n",
       "      <td>48020.0</td>\n",
       "    </tr>\n",
       "    <tr>\n",
       "      <th>1</th>\n",
       "      <td>Pandemic Legacy: Season 1</td>\n",
       "      <td>2</td>\n",
       "      <td>https://boardgamegeek.com/boardgame/161936/pan...</td>\n",
       "      <td>8.376</td>\n",
       "      <td>8.52</td>\n",
       "      <td>54158.0</td>\n",
       "    </tr>\n",
       "    <tr>\n",
       "      <th>2</th>\n",
       "      <td>Gloomhaven</td>\n",
       "      <td>3</td>\n",
       "      <td>https://boardgamegeek.com/boardgame/174430/glo...</td>\n",
       "      <td>8.344</td>\n",
       "      <td>8.58</td>\n",
       "      <td>63133.0</td>\n",
       "    </tr>\n",
       "    <tr>\n",
       "      <th>3</th>\n",
       "      <td>Ark Nova</td>\n",
       "      <td>4</td>\n",
       "      <td>https://boardgamegeek.com/boardgame/342942/ark...</td>\n",
       "      <td>8.340</td>\n",
       "      <td>8.54</td>\n",
       "      <td>46419.0</td>\n",
       "    </tr>\n",
       "    <tr>\n",
       "      <th>4</th>\n",
       "      <td>Twilight Imperium: Fourth Edition</td>\n",
       "      <td>5</td>\n",
       "      <td>https://boardgamegeek.com/boardgame/233078/twi...</td>\n",
       "      <td>8.237</td>\n",
       "      <td>8.59</td>\n",
       "      <td>24561.0</td>\n",
       "    </tr>\n",
       "  </tbody>\n",
       "</table>\n",
       "</div>"
      ],
      "text/plain": [
       "                                Name  Rank  \\\n",
       "0                  Brass: Birmingham     1   \n",
       "1          Pandemic Legacy: Season 1     2   \n",
       "2                         Gloomhaven     3   \n",
       "3                           Ark Nova     4   \n",
       "4  Twilight Imperium: Fourth Edition     5   \n",
       "\n",
       "                                                Link  Geek Rating  \\\n",
       "0  https://boardgamegeek.com/boardgame/224517/bra...        8.413   \n",
       "1  https://boardgamegeek.com/boardgame/161936/pan...        8.376   \n",
       "2  https://boardgamegeek.com/boardgame/174430/glo...        8.344   \n",
       "3  https://boardgamegeek.com/boardgame/342942/ark...        8.340   \n",
       "4  https://boardgamegeek.com/boardgame/233078/twi...        8.237   \n",
       "\n",
       "   Average ratings   Voters  \n",
       "0             8.59  48020.0  \n",
       "1             8.52  54158.0  \n",
       "2             8.58  63133.0  \n",
       "3             8.54  46419.0  \n",
       "4             8.59  24561.0  "
      ]
     },
     "execution_count": 31,
     "metadata": {},
     "output_type": "execute_result"
    }
   ],
   "source": [
    "db.head()"
   ]
  },
  {
   "cell_type": "code",
   "execution_count": 32,
   "metadata": {},
   "outputs": [],
   "source": [
    "min_players = []\n",
    "max_players = []\n",
    "min_duration = []\n",
    "max_duration = []\n",
    "weight = []"
   ]
  },
  {
   "cell_type": "code",
   "execution_count": 33,
   "metadata": {},
   "outputs": [],
   "source": [
    "def find_last_number(s):\n",
    "    result = ''\n",
    "    for i in range(len(s)-1,0,-1):\n",
    "        if s[i]=='>':\n",
    "            return result\n",
    "        else:\n",
    "            result=s[i]+result"
   ]
  },
  {
   "cell_type": "code",
   "execution_count": 34,
   "metadata": {},
   "outputs": [
    {
     "name": "stdout",
     "output_type": "stream",
     "text": [
      "0\n",
      "10\n",
      "20\n",
      "30\n"
     ]
    },
    {
     "ename": "KeyboardInterrupt",
     "evalue": "",
     "output_type": "error",
     "traceback": [
      "\u001b[1;31m---------------------------------------------------------------------------\u001b[0m",
      "\u001b[1;31mKeyboardInterrupt\u001b[0m                         Traceback (most recent call last)",
      "Cell \u001b[1;32mIn[34], line 3\u001b[0m\n\u001b[0;32m      1\u001b[0m i \u001b[38;5;241m=\u001b[39m \u001b[38;5;241m0\u001b[39m\n\u001b[0;32m      2\u001b[0m \u001b[38;5;28;01mfor\u001b[39;00m link \u001b[38;5;129;01min\u001b[39;00m db[\u001b[38;5;124m'\u001b[39m\u001b[38;5;124mLink\u001b[39m\u001b[38;5;124m'\u001b[39m]:\n\u001b[1;32m----> 3\u001b[0m         time\u001b[38;5;241m.\u001b[39msleep(\u001b[38;5;241m1\u001b[39m)\n\u001b[0;32m      4\u001b[0m         \u001b[38;5;28;01mif\u001b[39;00m i \u001b[38;5;241m%\u001b[39m \u001b[38;5;241m10\u001b[39m \u001b[38;5;241m==\u001b[39m\u001b[38;5;241m0\u001b[39m:\n\u001b[0;32m      5\u001b[0m             \u001b[38;5;28mprint\u001b[39m(i)\n",
      "\u001b[1;31mKeyboardInterrupt\u001b[0m: "
     ]
    }
   ],
   "source": [
    "i = 0\n",
    "for link in db['Link']:\n",
    "        time.sleep(1)\n",
    "        if i % 10 ==0:\n",
    "            print(i)\n",
    "        driver.get(link)\n",
    "        try:\n",
    "            element = WebDriverWait(driver, 1).until(EC.visibility_of_element_located((By.CSS_SELECTOR, min_players_sel)))\n",
    "            #print(element.get_attribute(\"innerHTML\"))\n",
    "            min_players_num = int(element.get_attribute(\"innerHTML\"))\n",
    "            min_players.append(min_players_num)\n",
    "        except:\n",
    "            min_players.append('na')\n",
    "        try:\n",
    "            element = driver.find_element(By.CSS_SELECTOR, max_players_sel)\n",
    "            max_players_num = int(find_last_number(element.get_attribute(\"innerHTML\")))\n",
    "            max_players.append(max_players_num)\n",
    "        except:\n",
    "            max_players.append('na')\n",
    "        try:\n",
    "            element = driver.find_element(By.CSS_SELECTOR, min_duration_sel)\n",
    "            min_duration_num = int(element.get_attribute(\"innerHTML\"))\n",
    "            min_duration.append(min_duration_num)\n",
    "        except:\n",
    "            min_duration.append('na')\n",
    "        try:\n",
    "            element = driver.find_element(By.CSS_SELECTOR, max_duration_sel)\n",
    "            max_duration_num = int(find_last_number(element.get_attribute(\"innerHTML\")))\n",
    "            max_duration.append(max_duration_num)\n",
    "        except:\n",
    "            max_duration.append('na')\n",
    "        try:\n",
    "            for sel in weight_sels:\n",
    "                elements = driver.find_elements(By.CSS_SELECTOR, sel)\n",
    "                if elements:\n",
    "                    element = elements[0]\n",
    "                    text_html = element.get_attribute(\"innerHTML\")\n",
    "                    text = element.get_attribute('innerText') \n",
    "                    weight.append(float(text.strip()))\n",
    "        except:\n",
    "            print('aa')\n",
    "            weight.append('na')  \n",
    "        i+=1\n",
    "  \n",
    "driver.quit()\n"
   ]
  },
  {
   "cell_type": "code",
   "execution_count": null,
   "metadata": {},
   "outputs": [
    {
     "data": {
      "text/plain": [
       "[4, 4, 4, 4, 6]"
      ]
     },
     "execution_count": 11,
     "metadata": {},
     "output_type": "execute_result"
    }
   ],
   "source": [
    "db['Weight'] = weight"
   ]
  },
  {
   "cell_type": "code",
   "execution_count": null,
   "metadata": {},
   "outputs": [],
   "source": [
    "db.to_csv('database_weight.csv')"
   ]
  },
  {
   "cell_type": "code",
   "execution_count": null,
   "metadata": {},
   "outputs": [],
   "source": []
  }
 ],
 "metadata": {
  "kernelspec": {
   "display_name": "base",
   "language": "python",
   "name": "python3"
  },
  "language_info": {
   "codemirror_mode": {
    "name": "ipython",
    "version": 3
   },
   "file_extension": ".py",
   "mimetype": "text/x-python",
   "name": "python",
   "nbconvert_exporter": "python",
   "pygments_lexer": "ipython3",
   "version": "3.12.7"
  }
 },
 "nbformat": 4,
 "nbformat_minor": 2
}
