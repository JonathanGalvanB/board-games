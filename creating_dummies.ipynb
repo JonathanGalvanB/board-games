{
 "cells": [
  {
   "cell_type": "code",
   "execution_count": 14,
   "metadata": {},
   "outputs": [],
   "source": [
    "import pandas as pd\n",
    "from collections import defaultdict\n",
    "import string"
   ]
  },
  {
   "cell_type": "code",
   "execution_count": 4,
   "metadata": {},
   "outputs": [
    {
     "data": {
      "text/html": [
       "<div>\n",
       "<style scoped>\n",
       "    .dataframe tbody tr th:only-of-type {\n",
       "        vertical-align: middle;\n",
       "    }\n",
       "\n",
       "    .dataframe tbody tr th {\n",
       "        vertical-align: top;\n",
       "    }\n",
       "\n",
       "    .dataframe thead th {\n",
       "        text-align: right;\n",
       "    }\n",
       "</style>\n",
       "<table border=\"1\" class=\"dataframe\">\n",
       "  <thead>\n",
       "    <tr style=\"text-align: right;\">\n",
       "      <th></th>\n",
       "      <th>Name</th>\n",
       "      <th>Rank</th>\n",
       "      <th>Link</th>\n",
       "      <th>Geek Rating</th>\n",
       "      <th>Average ratings</th>\n",
       "      <th>Voters</th>\n",
       "      <th>min_layers</th>\n",
       "      <th>max_layers</th>\n",
       "      <th>min_duration</th>\n",
       "      <th>max_duration</th>\n",
       "      <th>weight</th>\n",
       "      <th>mechanics</th>\n",
       "    </tr>\n",
       "  </thead>\n",
       "  <tbody>\n",
       "    <tr>\n",
       "      <th>0</th>\n",
       "      <td>Brass: Birmingham</td>\n",
       "      <td>1</td>\n",
       "      <td>https://boardgamegeek.com/boardgame/224517/bra...</td>\n",
       "      <td>8.413</td>\n",
       "      <td>8.59</td>\n",
       "      <td>48020.0</td>\n",
       "      <td>2</td>\n",
       "      <td>4</td>\n",
       "      <td>60</td>\n",
       "      <td>120</td>\n",
       "      <td>3.87</td>\n",
       "      <td>['Hand Management', 'Income', 'Loans', 'Market...</td>\n",
       "    </tr>\n",
       "    <tr>\n",
       "      <th>1</th>\n",
       "      <td>Pandemic Legacy: Season 1</td>\n",
       "      <td>2</td>\n",
       "      <td>https://boardgamegeek.com/boardgame/161936/pan...</td>\n",
       "      <td>8.376</td>\n",
       "      <td>8.52</td>\n",
       "      <td>54158.0</td>\n",
       "      <td>2</td>\n",
       "      <td>4</td>\n",
       "      <td>60</td>\n",
       "      <td>na</td>\n",
       "      <td>2.83</td>\n",
       "      <td>['Action Points', 'Cooperative Game', 'Hand Ma...</td>\n",
       "    </tr>\n",
       "    <tr>\n",
       "      <th>2</th>\n",
       "      <td>Gloomhaven</td>\n",
       "      <td>3</td>\n",
       "      <td>https://boardgamegeek.com/boardgame/174430/glo...</td>\n",
       "      <td>8.344</td>\n",
       "      <td>8.58</td>\n",
       "      <td>63133.0</td>\n",
       "      <td>1</td>\n",
       "      <td>4</td>\n",
       "      <td>60</td>\n",
       "      <td>120</td>\n",
       "      <td>3.91</td>\n",
       "      <td>['Action Queue', 'Action Retrieval', 'Campaign...</td>\n",
       "    </tr>\n",
       "    <tr>\n",
       "      <th>3</th>\n",
       "      <td>Ark Nova</td>\n",
       "      <td>4</td>\n",
       "      <td>https://boardgamegeek.com/boardgame/342942/ark...</td>\n",
       "      <td>8.340</td>\n",
       "      <td>8.54</td>\n",
       "      <td>46419.0</td>\n",
       "      <td>1</td>\n",
       "      <td>4</td>\n",
       "      <td>90</td>\n",
       "      <td>150</td>\n",
       "      <td>3.78</td>\n",
       "      <td>['Action Queue', 'End Game Bonuses', 'Grid Cov...</td>\n",
       "    </tr>\n",
       "    <tr>\n",
       "      <th>4</th>\n",
       "      <td>Twilight Imperium: Fourth Edition</td>\n",
       "      <td>5</td>\n",
       "      <td>https://boardgamegeek.com/boardgame/233078/twi...</td>\n",
       "      <td>8.237</td>\n",
       "      <td>8.59</td>\n",
       "      <td>24561.0</td>\n",
       "      <td>3</td>\n",
       "      <td>6</td>\n",
       "      <td>240</td>\n",
       "      <td>480</td>\n",
       "      <td>4.33</td>\n",
       "      <td>['Action Drafting', 'Area-Impulse', 'Dice Roll...</td>\n",
       "    </tr>\n",
       "  </tbody>\n",
       "</table>\n",
       "</div>"
      ],
      "text/plain": [
       "                                Name  Rank  \\\n",
       "0                  Brass: Birmingham     1   \n",
       "1          Pandemic Legacy: Season 1     2   \n",
       "2                         Gloomhaven     3   \n",
       "3                           Ark Nova     4   \n",
       "4  Twilight Imperium: Fourth Edition     5   \n",
       "\n",
       "                                                Link  Geek Rating  \\\n",
       "0  https://boardgamegeek.com/boardgame/224517/bra...        8.413   \n",
       "1  https://boardgamegeek.com/boardgame/161936/pan...        8.376   \n",
       "2  https://boardgamegeek.com/boardgame/174430/glo...        8.344   \n",
       "3  https://boardgamegeek.com/boardgame/342942/ark...        8.340   \n",
       "4  https://boardgamegeek.com/boardgame/233078/twi...        8.237   \n",
       "\n",
       "   Average ratings   Voters  min_layers max_layers min_duration max_duration  \\\n",
       "0             8.59  48020.0           2          4           60          120   \n",
       "1             8.52  54158.0           2          4           60           na   \n",
       "2             8.58  63133.0           1          4           60          120   \n",
       "3             8.54  46419.0           1          4           90          150   \n",
       "4             8.59  24561.0           3          6          240          480   \n",
       "\n",
       "   weight                                          mechanics  \n",
       "0    3.87  ['Hand Management', 'Income', 'Loans', 'Market...  \n",
       "1    2.83  ['Action Points', 'Cooperative Game', 'Hand Ma...  \n",
       "2    3.91  ['Action Queue', 'Action Retrieval', 'Campaign...  \n",
       "3    3.78  ['Action Queue', 'End Game Bonuses', 'Grid Cov...  \n",
       "4    4.33  ['Action Drafting', 'Area-Impulse', 'Dice Roll...  "
      ]
     },
     "execution_count": 4,
     "metadata": {},
     "output_type": "execute_result"
    }
   ],
   "source": [
    "db = pd.read_csv('database_with_all_info.csv', index_col=0)\n",
    "db.head()"
   ]
  },
  {
   "cell_type": "code",
   "execution_count": 50,
   "metadata": {},
   "outputs": [],
   "source": [
    "mech_dict = defaultdict(list)\n",
    "remove_chars = \"['] \"\n",
    "translate_table = str.maketrans('','',remove_chars)\n",
    "for i,row in db.iterrows():\n",
    "    s = row['mechanics'].translate(translate_table)\n",
    "    for mech in s.split(','):\n",
    "        mech_dict[mech].append(row['Name'])"
   ]
  },
  {
   "cell_type": "code",
   "execution_count": 51,
   "metadata": {},
   "outputs": [],
   "source": [
    "present_mechs = list(mech_dict.keys())"
   ]
  },
  {
   "cell_type": "code",
   "execution_count": 52,
   "metadata": {},
   "outputs": [
    {
     "data": {
      "text/plain": [
       "191"
      ]
     },
     "execution_count": 52,
     "metadata": {},
     "output_type": "execute_result"
    }
   ],
   "source": [
    "len(present_mechs)"
   ]
  },
  {
   "cell_type": "code",
   "execution_count": 53,
   "metadata": {},
   "outputs": [
    {
     "data": {
      "text/plain": [
       "'TurnOrder:Stat-Based'"
      ]
     },
     "execution_count": 53,
     "metadata": {},
     "output_type": "execute_result"
    }
   ],
   "source": [
    "present_mechs[:20][7]"
   ]
  },
  {
   "cell_type": "code",
   "execution_count": 54,
   "metadata": {},
   "outputs": [
    {
     "data": {
      "text/plain": [
       "['Brass: Birmingham',\n",
       " 'The Castles of Burgundy',\n",
       " 'Brass: Lancashire',\n",
       " 'Barrage',\n",
       " 'Underwater Cities',\n",
       " 'Power Grid',\n",
       " 'Trickerion: Legends of Illusion',\n",
       " 'Patchwork',\n",
       " 'The Isle of Cats',\n",
       " 'Coimbra',\n",
       " 'Kingdomino',\n",
       " 'Power Grid Deluxe: Europe/North America',\n",
       " 'Tekhenu: Obelisk of the Sun',\n",
       " 'Smartphone Inc.',\n",
       " 'In the Year of the Dragon',\n",
       " 'IKI',\n",
       " 'Civilization',\n",
       " 'Fresco',\n",
       " 'Madeira',\n",
       " 'A Game of Thrones: The Card Game (Second Edition)',\n",
       " 'Formula D',\n",
       " 'Beer & Bread',\n",
       " 'Brian Boru: High King of Ireland',\n",
       " 'The Magnificent',\n",
       " 'The Networks',\n",
       " 'The Pursuit of Happiness',\n",
       " 'Ricochet Robots',\n",
       " 'La Granja: Deluxe Master Set',\n",
       " 'Imperial Steam']"
      ]
     },
     "execution_count": 54,
     "metadata": {},
     "output_type": "execute_result"
    }
   ],
   "source": [
    "mech_dict[present_mechs[7]]"
   ]
  },
  {
   "cell_type": "code",
   "execution_count": 55,
   "metadata": {},
   "outputs": [],
   "source": [
    "most_popular_mech_freq = max(len(mech_dict[m]) for m in present_mechs)\n",
    "most_popular_mech = [len(mech_dict[m]) for m in present_mechs].index(most_popular_mech_freq)"
   ]
  },
  {
   "cell_type": "code",
   "execution_count": 56,
   "metadata": {},
   "outputs": [
    {
     "data": {
      "text/plain": [
       "0"
      ]
     },
     "execution_count": 56,
     "metadata": {},
     "output_type": "execute_result"
    }
   ],
   "source": [
    "most_popular_mech "
   ]
  },
  {
   "cell_type": "code",
   "execution_count": 57,
   "metadata": {},
   "outputs": [
    {
     "data": {
      "text/plain": [
       "'HandManagement'"
      ]
     },
     "execution_count": 57,
     "metadata": {},
     "output_type": "execute_result"
    }
   ],
   "source": [
    "present_mechs[0]"
   ]
  },
  {
   "cell_type": "code",
   "execution_count": 58,
   "metadata": {},
   "outputs": [
    {
     "data": {
      "text/plain": [
       "400"
      ]
     },
     "execution_count": 58,
     "metadata": {},
     "output_type": "execute_result"
    }
   ],
   "source": [
    "len(mech_dict['HandManagement'])"
   ]
  },
  {
   "cell_type": "code",
   "execution_count": null,
   "metadata": {},
   "outputs": [],
   "source": []
  }
 ],
 "metadata": {
  "kernelspec": {
   "display_name": "base",
   "language": "python",
   "name": "python3"
  },
  "language_info": {
   "codemirror_mode": {
    "name": "ipython",
    "version": 3
   },
   "file_extension": ".py",
   "mimetype": "text/x-python",
   "name": "python",
   "nbconvert_exporter": "python",
   "pygments_lexer": "ipython3",
   "version": "3.12.7"
  }
 },
 "nbformat": 4,
 "nbformat_minor": 2
}
