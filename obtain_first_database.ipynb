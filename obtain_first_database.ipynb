{
 "cells": [
  {
   "cell_type": "markdown",
   "metadata": {},
   "source": [
    "We want to scrap the whole data base first"
   ]
  },
  {
   "cell_type": "code",
   "execution_count": 1,
   "metadata": {},
   "outputs": [],
   "source": [
    "import pandas as pd\n",
    "from bs4 import BeautifulSoup\n",
    "import requests"
   ]
  },
  {
   "cell_type": "code",
   "execution_count": 2,
   "metadata": {},
   "outputs": [
    {
     "data": {
      "text/plain": [
       "200"
      ]
     },
     "execution_count": 2,
     "metadata": {},
     "output_type": "execute_result"
    }
   ],
   "source": [
    "response = requests.get(url=\"https://boardgamegeek.com/browse/boardgame/page/1\")\n",
    "response.status_code"
   ]
  },
  {
   "cell_type": "code",
   "execution_count": 3,
   "metadata": {},
   "outputs": [],
   "source": [
    "soup = BeautifulSoup(response.text, 'html.parser')"
   ]
  },
  {
   "cell_type": "code",
   "execution_count": 4,
   "metadata": {},
   "outputs": [],
   "source": [
    "table = soup.find_all(\"div\",attrs={\"class\":\"table-responsive\"})[0]"
   ]
  },
  {
   "cell_type": "code",
   "execution_count": 5,
   "metadata": {},
   "outputs": [],
   "source": [
    "rows = table.find_all(\"tr\",attrs={\"id\":\"row_\"})"
   ]
  },
  {
   "cell_type": "code",
   "execution_count": 6,
   "metadata": {},
   "outputs": [],
   "source": [
    "ranks = []\n",
    "links = []\n",
    "names = []\n",
    "geek_ratings = []\n",
    "avg_ratings = []\n",
    "voters = []"
   ]
  },
  {
   "cell_type": "code",
   "execution_count": 7,
   "metadata": {},
   "outputs": [
    {
     "data": {
      "text/plain": [
       "<td align=\"center\" class=\"collection_bggrating\">\n",
       "\t\t\t8.412\t\t</td>"
      ]
     },
     "execution_count": 7,
     "metadata": {},
     "output_type": "execute_result"
    }
   ],
   "source": [
    "rows[0].find(\"td\",attrs={\"class\":\"collection_bggrating\"})"
   ]
  },
  {
   "cell_type": "code",
   "execution_count": 8,
   "metadata": {},
   "outputs": [],
   "source": [
    "for row in rows:\n",
    "    ranks.append(int(row.find(\"td\",attrs={\"class\":\"collection_rank\"}).find('a')['name']))\n",
    "    links.append('www.boardgamegeek.com'+ row.find(\"td\",attrs={\"class\":\"collection_thumbnail\"}).find('a')['href'])\n",
    "    names.append(row.find(\"td\",attrs={\"class\":\"collection_objectname browse\"}).find(\"a\",attrs={\"class\":\"primary\"}).get_text())\n",
    "    rtgs = row.find_all(\"td\",attrs={\"class\":\"collection_bggrating\"})\n",
    "    geek_ratings.append(rtgs[0].text.strip())\n",
    "    avg_ratings.append(rtgs[1].text.strip())\n",
    "    voters.append(rtgs[2].text.strip())\n",
    "    "
   ]
  },
  {
   "cell_type": "markdown",
   "metadata": {},
   "source": []
  },
  {
   "cell_type": "code",
   "execution_count": 9,
   "metadata": {},
   "outputs": [],
   "source": [
    "db = pd.DataFrame.from_dict({\"Name\":names, \"Rank\":ranks, \"Link\":links,\"Geek Rating\":geek_ratings, \"Average ratings\":avg_ratings, \"Voters\":voters})"
   ]
  },
  {
   "cell_type": "code",
   "execution_count": 10,
   "metadata": {},
   "outputs": [
    {
     "data": {
      "text/html": [
       "<div>\n",
       "<style scoped>\n",
       "    .dataframe tbody tr th:only-of-type {\n",
       "        vertical-align: middle;\n",
       "    }\n",
       "\n",
       "    .dataframe tbody tr th {\n",
       "        vertical-align: top;\n",
       "    }\n",
       "\n",
       "    .dataframe thead th {\n",
       "        text-align: right;\n",
       "    }\n",
       "</style>\n",
       "<table border=\"1\" class=\"dataframe\">\n",
       "  <thead>\n",
       "    <tr style=\"text-align: right;\">\n",
       "      <th></th>\n",
       "      <th>Name</th>\n",
       "      <th>Rank</th>\n",
       "      <th>Link</th>\n",
       "      <th>Geek Rating</th>\n",
       "      <th>Average ratings</th>\n",
       "      <th>Voters</th>\n",
       "    </tr>\n",
       "  </thead>\n",
       "  <tbody>\n",
       "    <tr>\n",
       "      <th>0</th>\n",
       "      <td>Brass: Birmingham</td>\n",
       "      <td>1</td>\n",
       "      <td>www.boardgamegeek.com/boardgame/224517/brass-b...</td>\n",
       "      <td>8.412</td>\n",
       "      <td>8.59</td>\n",
       "      <td>48062</td>\n",
       "    </tr>\n",
       "    <tr>\n",
       "      <th>1</th>\n",
       "      <td>Pandemic Legacy: Season 1</td>\n",
       "      <td>2</td>\n",
       "      <td>www.boardgamegeek.com/boardgame/161936/pandemi...</td>\n",
       "      <td>8.376</td>\n",
       "      <td>8.52</td>\n",
       "      <td>54175</td>\n",
       "    </tr>\n",
       "    <tr>\n",
       "      <th>2</th>\n",
       "      <td>Gloomhaven</td>\n",
       "      <td>3</td>\n",
       "      <td>www.boardgamegeek.com/boardgame/174430/gloomhaven</td>\n",
       "      <td>8.344</td>\n",
       "      <td>8.58</td>\n",
       "      <td>63150</td>\n",
       "    </tr>\n",
       "    <tr>\n",
       "      <th>3</th>\n",
       "      <td>Ark Nova</td>\n",
       "      <td>4</td>\n",
       "      <td>www.boardgamegeek.com/boardgame/342942/ark-nova</td>\n",
       "      <td>8.339</td>\n",
       "      <td>8.53</td>\n",
       "      <td>46475</td>\n",
       "    </tr>\n",
       "    <tr>\n",
       "      <th>4</th>\n",
       "      <td>Twilight Imperium: Fourth Edition</td>\n",
       "      <td>5</td>\n",
       "      <td>www.boardgamegeek.com/boardgame/233078/twiligh...</td>\n",
       "      <td>8.237</td>\n",
       "      <td>8.59</td>\n",
       "      <td>24578</td>\n",
       "    </tr>\n",
       "  </tbody>\n",
       "</table>\n",
       "</div>"
      ],
      "text/plain": [
       "                                Name  Rank  \\\n",
       "0                  Brass: Birmingham     1   \n",
       "1          Pandemic Legacy: Season 1     2   \n",
       "2                         Gloomhaven     3   \n",
       "3                           Ark Nova     4   \n",
       "4  Twilight Imperium: Fourth Edition     5   \n",
       "\n",
       "                                                Link Geek Rating  \\\n",
       "0  www.boardgamegeek.com/boardgame/224517/brass-b...       8.412   \n",
       "1  www.boardgamegeek.com/boardgame/161936/pandemi...       8.376   \n",
       "2  www.boardgamegeek.com/boardgame/174430/gloomhaven       8.344   \n",
       "3    www.boardgamegeek.com/boardgame/342942/ark-nova       8.339   \n",
       "4  www.boardgamegeek.com/boardgame/233078/twiligh...       8.237   \n",
       "\n",
       "  Average ratings Voters  \n",
       "0            8.59  48062  \n",
       "1            8.52  54175  \n",
       "2            8.58  63150  \n",
       "3            8.53  46475  \n",
       "4            8.59  24578  "
      ]
     },
     "execution_count": 10,
     "metadata": {},
     "output_type": "execute_result"
    }
   ],
   "source": [
    "db.head()"
   ]
  },
  {
   "cell_type": "code",
   "execution_count": 11,
   "metadata": {},
   "outputs": [
    {
     "data": {
      "text/plain": [
       "'www.boardgamegeek.com/boardgame/224517/brass-birmingham'"
      ]
     },
     "execution_count": 11,
     "metadata": {},
     "output_type": "execute_result"
    }
   ],
   "source": [
    "db['Link'][0]"
   ]
  },
  {
   "cell_type": "code",
   "execution_count": null,
   "metadata": {},
   "outputs": [],
   "source": [
    "db.to_csv('database.csv')"
   ]
  }
 ],
 "metadata": {
  "kernelspec": {
   "display_name": "Python 3",
   "language": "python",
   "name": "python3"
  },
  "language_info": {
   "codemirror_mode": {
    "name": "ipython",
    "version": 3
   },
   "file_extension": ".py",
   "mimetype": "text/x-python",
   "name": "python",
   "nbconvert_exporter": "python",
   "pygments_lexer": "ipython3",
   "version": "3.10.1"
  }
 },
 "nbformat": 4,
 "nbformat_minor": 2
}
